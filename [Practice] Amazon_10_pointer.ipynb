{
  "nbformat": 4,
  "nbformat_minor": 0,
  "metadata": {
    "colab": {
      "name": "Amazon 10 pointer.ipynb",
      "provenance": [],
      "collapsed_sections": [],
      "authorship_tag": "ABX9TyMIl7pSB+M5slHlPXf8tA67",
      "include_colab_link": true
    },
    "kernelspec": {
      "name": "python3",
      "display_name": "Python 3"
    },
    "language_info": {
      "name": "python"
    }
  },
  "cells": [
    {
      "cell_type": "markdown",
      "metadata": {
        "id": "view-in-github",
        "colab_type": "text"
      },
      "source": [
        "<a href=\"https://colab.research.google.com/github/hariPrasadCoder/10-pointer-analysis/blob/main/Amazon_10_pointer.ipynb\" target=\"_parent\"><img src=\"https://colab.research.google.com/assets/colab-badge.svg\" alt=\"Open In Colab\"/></a>"
      ]
    },
    {
      "cell_type": "code",
      "execution_count": 1,
      "metadata": {
        "id": "kS-s6mc0pAxP"
      },
      "outputs": [],
      "source": [
        "from bs4 import BeautifulSoup as bs\n",
        "import requests"
      ]
    },
    {
      "cell_type": "markdown",
      "source": [
        "## 1. PE Ratio"
      ],
      "metadata": {
        "id": "m6FSYr_kdPh3"
      }
    },
    {
      "cell_type": "code",
      "source": [
        "page = requests.get('https://www.macrotrends.net/stocks/charts/AMZN/amazon/pe-ratio')\n",
        "soup = bs(page.content,\"lxml\")"
      ],
      "metadata": {
        "id": "yJna4LldxkYu"
      },
      "execution_count": 2,
      "outputs": []
    },
    {
      "cell_type": "code",
      "source": [
        "pe_ratio = float(soup.find(\"table\").find_all(\"tr\")[2].find_all(\"td\")[-1].text)\n",
        "pe_ratio"
      ],
      "metadata": {
        "colab": {
          "base_uri": "https://localhost:8080/"
        },
        "id": "sTxTo0O0QmhC",
        "outputId": "12d0aa59-3138-4b5b-bff4-f68e51738b23"
      },
      "execution_count": 3,
      "outputs": [
        {
          "output_type": "execute_result",
          "data": {
            "text/plain": [
              "65.23"
            ]
          },
          "metadata": {},
          "execution_count": 3
        }
      ]
    },
    {
      "cell_type": "markdown",
      "source": [
        "## 2. Current Ratio"
      ],
      "metadata": {
        "id": "azjDJGkkdS7X"
      }
    },
    {
      "cell_type": "code",
      "source": [
        "cr = requests.get('https://www.macrotrends.net/stocks/charts/AMZN/amazon/current-ratio')\n",
        "soup = bs(cr.content,'lxml')"
      ],
      "metadata": {
        "id": "1QXx5zWgQra2"
      },
      "execution_count": 4,
      "outputs": []
    },
    {
      "cell_type": "code",
      "source": [
        "cr_table = soup.find( class_ = 'table')\n",
        "current_ratio = float(soup.find_all('tr')[2].find_all('td')[-1].text)\n",
        "current_ratio"
      ],
      "metadata": {
        "colab": {
          "base_uri": "https://localhost:8080/"
        },
        "id": "EBHtZPYTTjH1",
        "outputId": "731b54de-b8b2-470f-f594-0e2aef443d15"
      },
      "execution_count": 5,
      "outputs": [
        {
          "output_type": "execute_result",
          "data": {
            "text/plain": [
              "1.12"
            ]
          },
          "metadata": {},
          "execution_count": 5
        }
      ]
    },
    {
      "cell_type": "markdown",
      "source": [
        "## 3. ROCE"
      ],
      "metadata": {
        "id": "BI-6Fn7NdXU0"
      }
    },
    {
      "cell_type": "code",
      "source": [
        "page = requests.get('https://www.macrotrends.net/stocks/charts/AMZN/amazon/ebit')\n",
        "soup = bs(page.content)"
      ],
      "metadata": {
        "id": "ZbyvBzkyUyE6"
      },
      "execution_count": 6,
      "outputs": []
    },
    {
      "cell_type": "code",
      "source": [
        "ebit = int(soup.find('table',class_='historical_data_table table').find_all('tr')[1].find_all('td')[1].text.replace(',','')[1:])\n",
        "ebit"
      ],
      "metadata": {
        "colab": {
          "base_uri": "https://localhost:8080/"
        },
        "id": "kMvCMqGiU8N2",
        "outputId": "da2fe586-bec1-47d5-97b8-49aad3a0907a"
      },
      "execution_count": 7,
      "outputs": [
        {
          "output_type": "execute_result",
          "data": {
            "text/plain": [
              "22899"
            ]
          },
          "metadata": {},
          "execution_count": 7
        }
      ]
    },
    {
      "cell_type": "code",
      "source": [
        "page = requests.get('https://www.macrotrends.net/stocks/charts/AMZN/amazon/total-long-term-liabilities')\n",
        "soup = bs(page.content)"
      ],
      "metadata": {
        "id": "yhLnRTJPVeIb"
      },
      "execution_count": 8,
      "outputs": []
    },
    {
      "cell_type": "code",
      "source": [
        "long_term_liabilities = int(soup.find('table',class_='historical_data_table table').find_all('tr')[1].find_all('td')[1].text.replace(',','')[1:])\n",
        "long_term_liabilities"
      ],
      "metadata": {
        "colab": {
          "base_uri": "https://localhost:8080/"
        },
        "id": "JJXFXX8SZVQx",
        "outputId": "a6e00431-d8f4-46df-edaa-40bc21721a05"
      },
      "execution_count": 9,
      "outputs": [
        {
          "output_type": "execute_result",
          "data": {
            "text/plain": [
              "101406"
            ]
          },
          "metadata": {},
          "execution_count": 9
        }
      ]
    },
    {
      "cell_type": "code",
      "source": [
        "page = requests.get('https://www.macrotrends.net/stocks/charts/AMZN/amazon/total-share-holder-equity')\n",
        "soup = bs(page.content)"
      ],
      "metadata": {
        "id": "ItBEpMbKZXpE"
      },
      "execution_count": 10,
      "outputs": []
    },
    {
      "cell_type": "code",
      "source": [
        "share_holders_equity = int(soup.find('table',class_='historical_data_table table').find_all('tr')[1].find_all('td')[1].text.replace(',','')[1:])\n",
        "share_holders_equity"
      ],
      "metadata": {
        "colab": {
          "base_uri": "https://localhost:8080/"
        },
        "id": "sdGWPN3QZl53",
        "outputId": "10431f7f-08fd-49a9-8160-fab88f092566"
      },
      "execution_count": 11,
      "outputs": [
        {
          "output_type": "execute_result",
          "data": {
            "text/plain": [
              "93404"
            ]
          },
          "metadata": {},
          "execution_count": 11
        }
      ]
    },
    {
      "cell_type": "code",
      "source": [
        "roce = ebit/(long_term_liabilities + share_holders_equity)\n",
        "roce"
      ],
      "metadata": {
        "colab": {
          "base_uri": "https://localhost:8080/"
        },
        "id": "l3SEOG0mZnpS",
        "outputId": "6b9a0415-33b2-4fb7-e37f-da073eae4d47"
      },
      "execution_count": 12,
      "outputs": [
        {
          "output_type": "execute_result",
          "data": {
            "text/plain": [
              "0.11754530054925312"
            ]
          },
          "metadata": {},
          "execution_count": 12
        }
      ]
    },
    {
      "cell_type": "markdown",
      "source": [
        "## 4. Debt to Equity Ratio"
      ],
      "metadata": {
        "id": "hhD6woqadc5A"
      }
    },
    {
      "cell_type": "code",
      "source": [
        "d2e = requests.get('https://www.macrotrends.net/stocks/charts/AMZN/amazon/debt-equity-ratio')\n",
        "soup = bs(d2e.content,'lxml')"
      ],
      "metadata": {
        "id": "HDQ1JvqRZ06L"
      },
      "execution_count": 13,
      "outputs": []
    },
    {
      "cell_type": "code",
      "source": [
        "d2e_table = soup.find(class_ ='table')\n",
        "debt2equity = float(soup.find_all('tr')[2].find_all('td')[-1].text)\n",
        "debt2equity"
      ],
      "metadata": {
        "colab": {
          "base_uri": "https://localhost:8080/"
        },
        "id": "7IEDV4q4doUB",
        "outputId": "bd45f89f-87ac-4bf9-cac5-2f363fc7207a"
      },
      "execution_count": 14,
      "outputs": [
        {
          "output_type": "execute_result",
          "data": {
            "text/plain": [
              "2.17"
            ]
          },
          "metadata": {},
          "execution_count": 14
        }
      ]
    },
    {
      "cell_type": "markdown",
      "source": [
        "## 5. Inventory Turnover Ratio"
      ],
      "metadata": {
        "id": "7TwUQBgCdtB2"
      }
    },
    {
      "cell_type": "code",
      "source": [
        "ar = requests.get('https://www.macrotrends.net/stocks/charts/AMZN/amazon/inventory-turnover')\n",
        "soup = bs(ar.content,'lxml')"
      ],
      "metadata": {
        "id": "1CBFYmF0dr6x"
      },
      "execution_count": 15,
      "outputs": []
    },
    {
      "cell_type": "code",
      "source": [
        "inventory_turnover = float(soup.find(id = 'main_content').find('strong').text)\n",
        "inventory_turnover"
      ],
      "metadata": {
        "colab": {
          "base_uri": "https://localhost:8080/"
        },
        "id": "K8p4HJeHdzaV",
        "outputId": "10c685c6-988f-4723-92e0-580b20b9b230"
      },
      "execution_count": 16,
      "outputs": [
        {
          "output_type": "execute_result",
          "data": {
            "text/plain": [
              "2.03"
            ]
          },
          "metadata": {},
          "execution_count": 16
        }
      ]
    },
    {
      "cell_type": "markdown",
      "source": [
        "## 6. Free Cash Flow"
      ],
      "metadata": {
        "id": "Nn2fVllNfEgj"
      }
    },
    {
      "cell_type": "code",
      "source": [
        "page = requests.get('https://www.macrotrends.net/stocks/charts/AMZN/amazon/free-cash-flow')\n",
        "soup = bs(page.content)"
      ],
      "metadata": {
        "id": "H00sCiBXd1it"
      },
      "execution_count": 17,
      "outputs": []
    },
    {
      "cell_type": "code",
      "source": [
        "free_cash_flow = float(soup.find('table',class_='historical_data_table table').find_all('tr')[1].find_all('td')[1].text.replace(',',''))\n",
        "free_cash_flow"
      ],
      "metadata": {
        "colab": {
          "base_uri": "https://localhost:8080/"
        },
        "id": "mSnTuF4lepoo",
        "outputId": "6595fcb3-9f26-402b-e478-288d771bc909"
      },
      "execution_count": 18,
      "outputs": [
        {
          "output_type": "execute_result",
          "data": {
            "text/plain": [
              "31020.0"
            ]
          },
          "metadata": {},
          "execution_count": 18
        }
      ]
    },
    {
      "cell_type": "markdown",
      "source": [
        "## 7. Increase in Reserves trend"
      ],
      "metadata": {
        "id": "XIZnf0eoiSg0"
      }
    },
    {
      "cell_type": "code",
      "source": [
        "import numpy as np\n",
        "def trendline(index,data, order=1):\n",
        "    coeffs = np.polyfit(index, list(data), order)\n",
        "    slope = coeffs[-2]\n",
        "    return float(slope)"
      ],
      "metadata": {
        "id": "ynsgDQIievL6"
      },
      "execution_count": 19,
      "outputs": []
    },
    {
      "cell_type": "code",
      "source": [
        "page = requests.get('https://www.macrotrends.net/stocks/charts/AMZN/amazon/retained-earnings-accumulated-deficit')\n",
        "soup = bs(page.content)"
      ],
      "metadata": {
        "id": "OqDYueoHiX_C"
      },
      "execution_count": 20,
      "outputs": []
    },
    {
      "cell_type": "code",
      "source": [
        "reserve_list = []\n",
        "for i in range(1,6):\n",
        "  reserve = int(soup.find('table',class_='historical_data_table table').find_all('tr')[i].find_all('td')[1].text.replace(',','')[1:])\n",
        "  reserve_list.append(reserve)\n",
        "\n",
        "reserve_list = reserve_list[::-1]\n",
        "reserve_list"
      ],
      "metadata": {
        "colab": {
          "base_uri": "https://localhost:8080/"
        },
        "id": "4ZU1sec7ifBx",
        "outputId": "798dd3fd-cc07-4a93-af69-87149838250c"
      },
      "execution_count": 21,
      "outputs": [
        {
          "output_type": "execute_result",
          "data": {
            "text/plain": [
              "[4916, 8636, 19625, 31220, 52551]"
            ]
          },
          "metadata": {},
          "execution_count": 21
        }
      ]
    },
    {
      "cell_type": "code",
      "source": [
        "index=[1,2,3,4,5]\n",
        "resultant=trendline(index,reserve_list)\n",
        "print(resultant)"
      ],
      "metadata": {
        "colab": {
          "base_uri": "https://localhost:8080/"
        },
        "id": "TGJZUjDjijz-",
        "outputId": "24859fa0-92c0-4d3d-fa87-552ee7bdc127"
      },
      "execution_count": 22,
      "outputs": [
        {
          "output_type": "stream",
          "name": "stdout",
          "text": [
            "11785.400000000003\n"
          ]
        }
      ]
    },
    {
      "cell_type": "markdown",
      "source": [
        "## 8. Quick Ratio"
      ],
      "metadata": {
        "id": "BQi007WHmEmq"
      }
    },
    {
      "cell_type": "code",
      "source": [
        "page = requests.get('https://www.macrotrends.net/stocks/charts/AMZN/amazon/quick-ratio')\n",
        "soup = bs(page.content)"
      ],
      "metadata": {
        "id": "hgoABcRP2k6G"
      },
      "execution_count": 30,
      "outputs": []
    },
    {
      "cell_type": "code",
      "source": [
        "quick_ratio = float(soup.find('table').find_all('tr')[2].find_all('td')[-1].text)\n",
        "quick_ratio"
      ],
      "metadata": {
        "colab": {
          "base_uri": "https://localhost:8080/"
        },
        "id": "sj5Bu1wW2oi1",
        "outputId": "a5dfe23d-e368-4c5a-e7ab-4254d74b2130"
      },
      "execution_count": 37,
      "outputs": [
        {
          "output_type": "execute_result",
          "data": {
            "text/plain": [
              "0.87"
            ]
          },
          "metadata": {},
          "execution_count": 37
        }
      ]
    },
    {
      "cell_type": "markdown",
      "source": [
        "## 9. Return on Equity Ratio"
      ],
      "metadata": {
        "id": "n61TZqvmmHcX"
      }
    },
    {
      "cell_type": "code",
      "source": [
        "page = requests.get('https://www.macrotrends.net/stocks/charts/AMZN/amazon/roe')\n",
        "soup = bs(page.content)"
      ],
      "metadata": {
        "id": "7eFFodRC7IRQ"
      },
      "execution_count": 43,
      "outputs": []
    },
    {
      "cell_type": "code",
      "source": [
        "roe = float(soup.find('table').find_all('tr')[2].find_all('td')[-1].text[:-1]) /100\n",
        "roe"
      ],
      "metadata": {
        "id": "mnnLkV8C7LLU",
        "outputId": "fb3ee464-186e-4e60-a4e6-f616abdc29f0",
        "colab": {
          "base_uri": "https://localhost:8080/"
        }
      },
      "execution_count": 45,
      "outputs": [
        {
          "output_type": "execute_result",
          "data": {
            "text/plain": [
              "0.24309999999999998"
            ]
          },
          "metadata": {},
          "execution_count": 45
        }
      ]
    },
    {
      "cell_type": "markdown",
      "source": [
        "## 10. Return on Investment"
      ],
      "metadata": {
        "id": "6zn4sPYsmL12"
      }
    },
    {
      "cell_type": "code",
      "source": [
        "page = requests.get('https://www.macrotrends.net/stocks/charts/AMZN/amazon/roi')\n",
        "soup = bs(page.content)"
      ],
      "metadata": {
        "id": "NxmN1Ci16m_O"
      },
      "execution_count": 38,
      "outputs": []
    },
    {
      "cell_type": "code",
      "source": [
        "roi = float(soup.find('table').find_all('tr')[2].find_all('td')[-1].text[:-1]) /100\n",
        "roi"
      ],
      "metadata": {
        "id": "pbXCn06Ko559",
        "colab": {
          "base_uri": "https://localhost:8080/"
        },
        "outputId": "eba57eee-8588-43a8-98a9-b861a24eb1ae"
      },
      "execution_count": 42,
      "outputs": [
        {
          "output_type": "execute_result",
          "data": {
            "text/plain": [
              "0.1898"
            ]
          },
          "metadata": {},
          "execution_count": 42
        }
      ]
    }
  ]
}